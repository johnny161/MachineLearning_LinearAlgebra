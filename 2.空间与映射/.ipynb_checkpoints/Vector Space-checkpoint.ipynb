{
 "cells": [
  {
   "cell_type": "markdown",
   "metadata": {},
   "source": [
    "## 向量空间\n",
    "$R^n$就是一种向量空间  \n",
    "例如，$R^3$空间就包含了所有含有3个成分的列向量\n",
    "$\\left[\\begin{matrix}x_1\\\\x_2\\\\x_3\\end{matrix}\\right]$  \n",
    "因此$R^3$空间也称为三维空间  \n",
    "如果一个向量空间U,他的子集V也是一个向量空间（满足向量加法和标量乘法的性质要求），那么V是U的子空间  \n",
    "因此，一个$R^3$空间的子空间有4种形式：$R^3$空间自身、$R^3$空间中过原点的平面、$R^3$空间中过原点的直线和零向量自身  \n",
    "这里必须强调一个事实：一个向量空间的任意子空间都必须包含零向量"
   ]
  },
  {
   "cell_type": "markdown",
   "metadata": {},
   "source": [
    "## 秩：连接起4个子空间\n",
    "m×n规模的矩阵A派生出了4个子空间：列空间$C(A)$、零空间$N(A)$、行空间$C(A^T)$和左零空间$N(A^T)$\n",
    "1. 列空间与零空间\n",
    "由矩阵A进行变换的原始空间是n维，而映射后的列空间是r维的，两个空间的维数之差n-r就是空间压缩的维数，也是$N(A)$\n",
    "2. 列空间与行空间\n",
    "线性无关的行向量的个数与列向量个数相等，因此$C(A^T)$的维数也等于矩阵的秩r\n",
    "3. 行空间与左零空间\n",
    "$C(A^T)$的维度是r，而转置矩阵$A^T$对应的映射前原始空间的维度是m，那么左零空间$N(A^T)$的维度就是m-r"
   ]
  },
  {
   "cell_type": "markdown",
   "metadata": {},
   "source": [
    "## 从空间的角度理解：解的表达式\n",
    "零空间中的任意点$x_s$与特解$x_p$的表达式进行合并$A(x_p+x_s)=b$  \n",
    "用几何意义来描述就是：零空间中的某个向量沿着这个特解向量$x_p$进行移动，移动后的结果即是另外一个解向量"
   ]
  },
  {
   "cell_type": "markdown",
   "metadata": {},
   "source": [
    "用程序来解方程组的话，一行代码就能搞定  \n",
    "$$\n",
    "\\begin{cases}\n",
    "x_1+2x_2+3x_3=14 \\\\ \n",
    "x_1-x_2+4x_3=11\\cr\n",
    "2x_1+3x_2-x_3=5\n",
    "\\end{cases}\n",
    "$$"
   ]
  },
  {
   "cell_type": "code",
   "execution_count": 2,
   "metadata": {},
   "outputs": [
    {
     "name": "stdout",
     "output_type": "stream",
     "text": [
      "[1. 2. 3.]\n"
     ]
    }
   ],
   "source": [
    "import numpy as np\n",
    "A = np.array([[1, 2, 3],\n",
    "              [1, -1, 4],\n",
    "              [2, 3, -1]])\n",
    "y = np.array([14, 11, 5])\n",
    "x = np.linalg.solve(A, y)\n",
    "print(x)"
   ]
  }
 ],
 "metadata": {
  "kernelspec": {
   "display_name": "Python 3",
   "language": "python",
   "name": "python3"
  },
  "language_info": {
   "codemirror_mode": {
    "name": "ipython",
    "version": 3
   },
   "file_extension": ".py",
   "mimetype": "text/x-python",
   "name": "python",
   "nbconvert_exporter": "python",
   "pygments_lexer": "ipython3",
   "version": "3.7.4"
  }
 },
 "nbformat": 4,
 "nbformat_minor": 2
}
