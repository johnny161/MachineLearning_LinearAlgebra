{
 "cells": [
  {
   "cell_type": "markdown",
   "metadata": {},
   "source": [
    "## 矩阵：描述空间中的映射\n",
    "由于矩阵乘法的作用，原始向量的空间位置甚至其所在空间的维度和形态都发生了改变，这便是矩阵乘法的空间映射作用  \n",
    "当 m < n 时，“矮胖”矩阵对空间压缩导致降维   \n",
    "当 m > n 时，“高瘦”矩阵无法覆盖目标空间，张成$ R^m $的一个经过原点的子空间  \n",
    "当 m = n 时，也得分情况讨论"
   ]
  },
  {
   "cell_type": "markdown",
   "metadata": {},
   "source": [
    "## 秩：决定映射后的空间形态\n",
    "我们把一个空间经过矩阵映射后得到的新空间称为它的像空间  \n",
    "像空间维度的决定因素就是空间映射矩阵各列的线性相关性，由各列所张成的空间维数就是原始空间映射后的像空间维数  \n",
    "矩阵各列所张成空间的维数被称为这个映射矩阵的秩，秩也可看作是该矩阵线性无关列的个数，这两个说法等价"
   ]
  },
  {
   "cell_type": "code",
   "execution_count": 2,
   "metadata": {},
   "outputs": [
    {
     "name": "stdout",
     "output_type": "stream",
     "text": [
      "2\n",
      "1\n",
      "2\n",
      "1\n",
      "3\n"
     ]
    }
   ],
   "source": [
    "import numpy as np\n",
    "A_1 = np.array([[1, 1, 0],\n",
    "                [1, 0, 1]])\n",
    "A_2 = np.array([[1, 2, -1],\n",
    "                [2, 4, -2]])\n",
    "A_3 = np.array([[1, 0],\n",
    "                [0, 1],\n",
    "                [0, -1]])\n",
    "A_4 = np.array([[1, 2],\n",
    "                [1, 2],\n",
    "                [-2, -4]])\n",
    "A_5 = np.array([[1, 1, 1],\n",
    "                [1, 1, 2],\n",
    "                [1, 2, 3]])\n",
    "print(np.linalg.matrix_rank(A_1))\n",
    "print(np.linalg.matrix_rank(A_2))\n",
    "print(np.linalg.matrix_rank(A_3))\n",
    "print(np.linalg.matrix_rank(A_4))\n",
    "print(np.linalg.matrix_rank(A_5))"
   ]
  },
  {
   "cell_type": "markdown",
   "metadata": {},
   "source": [
    "## 方阵：逆映射存在的必要不充分条件\n",
    "首先，如果方阵A的列向量彼此线性相关，则该矩阵A对应着空间压缩的映射；   \n",
    "反之，如果矩阵A的各个列向量线性无关，则映射时空间不会被压缩，即矩阵Ay有逆矩阵存在。  \n",
    "逆矩阵存在的条件有以下几方面：  \n",
    "1. 矩阵必须是一个方阵  \n",
    "2. 在矩阵A是n阶方阵的前提下，以下任意一个条件都与矩阵满足可逆性等价：\n",
    "    - 矩阵A的零空间的维数为0，或者列空间的维数为n  \n",
    "    - 列向量$ a_1,a_2,a_3,\\cdots,a_n $\n"
   ]
  },
  {
   "cell_type": "code",
   "execution_count": 5,
   "metadata": {},
   "outputs": [
    {
     "name": "stdout",
     "output_type": "stream",
     "text": [
      "[[  1.    -17.5    13.125]\n",
      " [  0.      0.5    -0.375]\n",
      " [  0.      0.      0.25 ]]\n",
      "[[1. 0. 0.]\n",
      " [0. 1. 0.]\n",
      " [0. 0. 1.]]\n"
     ]
    }
   ],
   "source": [
    "A = np.array([[1, 35, 0],\n",
    "              [0, 2, 3],\n",
    "              [0, 0, 4]])\n",
    "A_n = np.linalg.inv(A)\n",
    "print(A_n)\n",
    "print(np.dot(A, A_n))"
   ]
  },
  {
   "cell_type": "markdown",
   "metadata": {},
   "source": [
    "此处要注意要在可逆的前提下去求取其逆矩阵（不可逆矩阵被称为奇异矩阵）"
   ]
  }
 ],
 "metadata": {
  "kernelspec": {
   "display_name": "Python 3",
   "language": "python",
   "name": "python3"
  },
  "language_info": {
   "codemirror_mode": {
    "name": "ipython",
    "version": 3
   },
   "file_extension": ".py",
   "mimetype": "text/x-python",
   "name": "python",
   "nbconvert_exporter": "python",
   "pygments_lexer": "ipython3",
   "version": "3.7.4"
  }
 },
 "nbformat": 4,
 "nbformat_minor": 2
}
