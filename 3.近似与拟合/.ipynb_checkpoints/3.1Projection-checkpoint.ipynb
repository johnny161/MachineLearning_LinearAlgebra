{
 "cells": [
  {
   "cell_type": "markdown",
   "metadata": {},
   "source": [
    "## 投影，寻找距离最近的向量\n",
    "对于一个方程组而言，有解固然好，但无解的问题在实际工程中往往更为普遍  \n",
    "当我们无法获取准确的解，我们希望能够找到距离结果最近的近似解来解决问题  \n",
    "一维空间的计算非常简单，但当讨论到更高维空间的投影问题，就需要借助矩阵工具来描述投影的过程，即需要一种通用的计算方法"
   ]
  },
  {
   "cell_type": "markdown",
   "metadata": {},
   "source": [
    "## 一般化：向n维子空间投影\n",
    "解决这个问题的核心突破口仍然是原始向量b与投影向量p的向量之差（即误差向量e=b-p)与这个n维子空间的垂直关系  \n",
    "然后，问题就转化为在这个n维子空间中寻找n个线性无关向量$a_1,a_2,a_3,\\ldots,a_n$作为这个子空间的一组基向量，然后使误差向量e与这一组基向量分别垂直   \n",
    "首先，满足：\n",
    "$$\n",
    "\\begin{cases}\n",
    "a_1\\cdot e&=&0\\\\\n",
    "a_2\\cdot e&=&0\\\\\n",
    "a_3\\cdot e&=&0\\\\\n",
    "&\\vdots&\\\\\n",
    "a_n\\cdot e&=&0\\\\\n",
    "\\end{cases} \n",
    "$$"
   ]
  },
  {
   "cell_type": "markdown",
   "metadata": {},
   "source": [
    "然后，投影向量p依旧被表示为这组基向量的线性组合形式：  \n",
    "  \n",
    "$$\n",
    "p=\\hat{x_1}a_1+\\hat{x_2}a_2+\\hat{x_3}a_3+\\cdots+\\hat{x_n}a_n\n",
    "$$\n",
    "  \n",
    "投影向量p依旧表示为$p=A\\hat{x}$，同样有\n",
    "  \n",
    "$$e=b-p=b-A\\hat{x}$$\n",
    "  \n",
    "最后把n个基向量$a_k$与误差向量e垂直的表达式  \n",
    "  \n",
    "$$a_k\\cdot e=0\\Rightarrow a_k^T(b-A\\hat{x})$$  \n",
    "  \n",
    "统一起来表示，就有  \n",
    "   \n",
    "$$\n",
    "\\left[\n",
    "\\begin{matrix}\n",
    "a_1^T \\\\\n",
    "a_2^T \\\\\n",
    "\\vdots \\\\\n",
    "a_n^T \\\\\n",
    "\\end{matrix}\n",
    "\\right]\n",
    "(b-A\\hat{x})=0\n",
    "$$  \n",
    "  \n",
    "$$\n",
    "A^T(b-A\\hat{x})=0\\Rightarrow A^TA\\hat{x}=A^Tb\n",
    "$$  "
   ]
  },
  {
   "cell_type": "markdown",
   "metadata": {},
   "source": [
    "最终，$R^m$空间中n维子空间的投影计算结果为：  \n",
    "  \n",
    "$$\n",
    "\\begin{cases}\n",
    "\\hat{x}=(A^TA)^{-1}A^Tb \\\\\n",
    "p=A(A^TA)^{-1}A^Tb \\\\\n",
    "P=A(A^TA)^{-1}A^T\n",
    "\\end{cases}\n",
    "$$"
   ]
  }
 ],
 "metadata": {
  "kernelspec": {
   "display_name": "Python 3",
   "language": "python",
   "name": "python3"
  },
  "language_info": {
   "codemirror_mode": {
    "name": "ipython",
    "version": 3
   },
   "file_extension": ".py",
   "mimetype": "text/x-python",
   "name": "python",
   "nbconvert_exporter": "python",
   "pygments_lexer": "ipython3",
   "version": "3.7.4"
  }
 },
 "nbformat": 4,
 "nbformat_minor": 2
}
