{
 "cells": [
  {
   "cell_type": "markdown",
   "metadata": {},
   "source": [
    "## 相互正交补的子空间\n",
    "上一节中，向量p所在的子空间和e所在的子空间在$R^m$中就构成了正交补的关系  \n",
    "   \n",
    "$$\n",
    "Ax=\n",
    "\\left[\\begin{matrix}\n",
    "row_1 \\\\\n",
    "row_2 \\\\\n",
    "row_3 \\\\\n",
    "\\vdots \\\\\n",
    "row_m\n",
    "\\end{matrix}\\right]x=\n",
    "\\left[\\begin{matrix}\n",
    "0 \\\\\n",
    "0 \\\\\n",
    "0 \\\\\n",
    "\\vdots \\\\\n",
    "0\n",
    "\\end{matrix}\\right]\n",
    "$$  \n",
    "  \n",
    "即满足任意的 $row_k\\cdot x=0$ 成立  \n",
    "这表面任意一个行向量与任意一个零向量垂直，因此行空间和零空间是正交子空间  \n",
    "同时，这两个子空间的维数之和为n  \n",
    "因此矩阵A的行空间和零空间在$R^n$空间中满足正交补的关系   \n",
    "直接利用上面的结论可知：转置矩阵$A^T$的行空间和零空间当然也是相互正交的  \n",
    "因此矩阵A的列空间和左零空间在$R^m$空间中满足正交补的关系"
   ]
  },
  {
   "cell_type": "markdown",
   "metadata": {},
   "source": [
    "## 处理无解方程组的近似解\n",
    "将向量ｂ向矩阵Ａ的列空间进行投影，获得投影向量ｐ  \n",
    "而误差向量ｅ则是向量ｂ向列空间的正交补子空间－左零空间上的投影  \n",
    "向量$\\hat{x}$则是我们最终想要获取的近似向量解"
   ]
  },
  {
   "cell_type": "code",
   "execution_count": 3,
   "metadata": {},
   "outputs": [
    {
     "name": "stdout",
     "output_type": "stream",
     "text": [
      "[[0.83870968]\n",
      " [1.87096774]]\n",
      "[[3.5483871 ]\n",
      " [4.58064516]\n",
      " [8.32258065]]\n"
     ]
    }
   ],
   "source": [
    "import numpy as np\n",
    "A = np.array([[2, 1],\n",
    "             [1, 2],\n",
    "             [1, 4]])\n",
    "b = np.array([[4],\n",
    "              [3],\n",
    "              [9]])\n",
    "A_T_A = np.dot(A.T, A)\n",
    "x = np.dot(np.dot(np.linalg.inv(A_T_A), A.T), b)\n",
    "print(x)\n",
    "print(np.dot(A, x))"
   ]
  },
  {
   "cell_type": "markdown",
   "metadata": {},
   "source": [
    "## 最小二乘线性拟合\n",
    "在平面上选取３个点：（０，１），（１，４），（２，３），找一条最接近这３个点的直线，设直线的方程维$y=cx+d$  \n",
    "令$A=\\left[\\begin{matrix}0\\quad1\\\\1\\quad1\\\\2\\quad1\\end{matrix}\\right]$，向量$b=\\left[\\begin{matrix}1\\\\4\\\\3\\end{matrix}\\right]$，将方程组转化为$A\\left[\\begin{matrix}c\\\\d\\end{matrix}\\right]=b$的矩阵乘法形式"
   ]
  },
  {
   "cell_type": "code",
   "execution_count": 4,
   "metadata": {},
   "outputs": [
    {
     "name": "stdout",
     "output_type": "stream",
     "text": [
      "[[1.        ]\n",
      " [1.66666667]]\n",
      "[[1.66666667]\n",
      " [2.66666667]\n",
      " [3.66666667]]\n"
     ]
    }
   ],
   "source": [
    "import numpy as np\n",
    "A = np.array([[0, 1],\n",
    "             [1, 1],\n",
    "             [2, 1]])\n",
    "b = np.array([[1],\n",
    "              [4],\n",
    "              [3]])\n",
    "A_T_A = np.dot(A.T, A)\n",
    "x = np.dot(np.dot(np.linalg.inv(A_T_A), A.T), b)\n",
    "print(x)\n",
    "print(np.dot(A, x))"
   ]
  },
  {
   "cell_type": "markdown",
   "metadata": {},
   "source": [
    "得到的直线解析式为$y=x+\\frac{5}{3}$,p的三个成分实质上就是３个点对应的纵坐标  \n",
    "最小二乘法的目标就是使每个点到直线的竖直线长度的平方和开根号的最小值（欧氏距离）"
   ]
  },
  {
   "cell_type": "markdown",
   "metadata": {},
   "source": [
    "## 施密特正交化：寻找最佳投影基－－简化投影计算\n",
    "当Ａ中的列向量正交化后用Ｑ表示  \n",
    "  \n",
    "$$\n",
    "\\begin{cases}\n",
    "\\hat{x}=(Q^TQ)^{-1}Q^Tb=Q^Tb\\\\\n",
    "p=QQ^Tｂ\\\\\n",
    "P=QQ^T\n",
    "\\end{cases} \n",
    "$$  \n",
    "  \n",
    "正是由于采用了标准正交向量来描述子空间，得到了如此清爽简洁的结果"
   ]
  }
 ],
 "metadata": {
  "kernelspec": {
   "display_name": "Python 3",
   "language": "python",
   "name": "python3"
  },
  "language_info": {
   "codemirror_mode": {
    "name": "ipython",
    "version": 3
   },
   "file_extension": ".py",
   "mimetype": "text/x-python",
   "name": "python",
   "nbconvert_exporter": "python",
   "pygments_lexer": "ipython3",
   "version": "3.7.4"
  }
 },
 "nbformat": 4,
 "nbformat_minor": 2
}
