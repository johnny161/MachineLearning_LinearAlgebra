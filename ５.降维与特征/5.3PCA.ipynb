{
 "cells": [
  {
   "cell_type": "markdown",
   "metadata": {},
   "source": [
    "## 降维思路\n",
    "1. 去掉特征间的相关性，想办法创造另一组新的特征来描述样本，并且新的特征必须彼此之间不相关\n",
    "2. 在新的彼此无关的特征集中，舍弃掉不重要的特征，保留较少的特征，实现数据的特征降维，保证尽量少的信息损失  \n",
    "其中，常用的协方差表示是先将A零均值化后：  \n",
    "$C=AA^T,   A=\\begin{bmatrix}x_1&x_2&x_3&\\dots&x_n\\\\y_1&y_2&y_3&\\dots&y_n\\end{bmatrix}$  \n",
    "当X和Y满足线性无关时，协方差矩阵C是对称的、正定的满秩矩阵"
   ]
  },
  {
   "cell_type": "code",
   "execution_count": 8,
   "metadata": {},
   "outputs": [
    {
     "name": "stdout",
     "output_type": "stream",
     "text": [
      "[[6. 4.]\n",
      " [4. 6.]]\n",
      "[[-2. -2.  0.  4.  0.]\n",
      " [-4.  0.  0.  2.  2.]]\n",
      "[[6. 4.]\n",
      " [4. 6.]]\n"
     ]
    }
   ],
   "source": [
    "import numpy as np\n",
    "\n",
    "x = [2,2,4,8,4]\n",
    "y = [2,6,6,8,8]\n",
    "S = np.vstack((x,y))\n",
    "print(np.cov(S))\n",
    "x = x-np.mean(x)\n",
    "y = y-np.mean(y)\n",
    "S = np.vstack((x,y))\n",
    "print(S)\n",
    "print(np.cov(S))"
   ]
  },
  {
   "cell_type": "code",
   "execution_count": 11,
   "metadata": {},
   "outputs": [
    {
     "name": "stdout",
     "output_type": "stream",
     "text": [
      "[10.+0.j  2.+0.j]\n",
      "[[ 0.70710678 -0.70710678]\n",
      " [ 0.70710678  0.70710678]]\n"
     ]
    }
   ],
   "source": [
    "import numpy as np\n",
    "from scipy import linalg\n",
    "C = np.array([[6,4],\n",
    "              [4,6]])\n",
    "evalue, evector = linalg.eig(C)\n",
    "print(evalue)\n",
    "print(evector)"
   ]
  },
  {
   "cell_type": "markdown",
   "metadata": {},
   "source": [
    "新特征的协方差矩阵D"
   ]
  },
  {
   "cell_type": "code",
   "execution_count": 19,
   "metadata": {},
   "outputs": [
    {
     "data": {
      "text/plain": [
       "array([[2.5, 0. ],\n",
       "       [0. , 0.5]])"
      ]
     },
     "execution_count": 19,
     "metadata": {},
     "output_type": "execute_result"
    }
   ],
   "source": [
    "D = np.dot(np.dot(evector.T,C),evector) / (len(x)-1)\n",
    "D"
   ]
  },
  {
   "cell_type": "code",
   "execution_count": 20,
   "metadata": {},
   "outputs": [
    {
     "name": "stdout",
     "output_type": "stream",
     "text": [
      "[[-2. -2.  0.  4.  0.]\n",
      " [-4.  0.  0.  2.  2.]]\n",
      "[[-4.242 -1.414  0.     4.242  1.414]\n",
      " [-1.414  1.414  0.    -1.414  1.414]]\n"
     ]
    }
   ],
   "source": [
    "import numpy as np\n",
    "p_1 = [0.707, 0.707]\n",
    "p_2 = [-0.707, 0.707]\n",
    "P = np.vstack((p_1, p_2))\n",
    "print(S)\n",
    "print(np.dot(P, S))"
   ]
  },
  {
   "cell_type": "markdown",
   "metadata": {},
   "source": [
    "由D可知协方差矩阵为对角阵，此时特征值就是方差  \n",
    "由于两个新的特征值彼此无关，我们保留方差大的特征（数据分布的离散程度大，包含的信息量就越大）  \n",
    "由于p_1方向上的特征对应的方差为2.5，我们保留该方向上的特征取值"
   ]
  },
  {
   "cell_type": "code",
   "execution_count": 1,
   "metadata": {},
   "outputs": [
    {
     "data": {
      "text/html": [
       "<img src=\"./PCA.jpg\" height=480 width=640>\n"
      ],
      "text/plain": [
       "<IPython.core.display.HTML object>"
      ]
     },
     "metadata": {},
     "output_type": "display_data"
    }
   ],
   "source": [
    "%%html\n",
    "<img src=\"./PCA.jpg\" height=480 width=640>"
   ]
  }
 ],
 "metadata": {
  "kernelspec": {
   "display_name": "Python 3",
   "language": "python",
   "name": "python3"
  },
  "language_info": {
   "codemirror_mode": {
    "name": "ipython",
    "version": 3
   },
   "file_extension": ".py",
   "mimetype": "text/x-python",
   "name": "python",
   "nbconvert_exporter": "python",
   "pygments_lexer": "ipython3",
   "version": "3.7.4"
  }
 },
 "nbformat": 4,
 "nbformat_minor": 2
}
