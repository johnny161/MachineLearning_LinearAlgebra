{
 "cells": [
  {
   "cell_type": "markdown",
   "metadata": {},
   "source": [
    "## 行和列的数据压缩实践"
   ]
  },
  {
   "cell_type": "code",
   "execution_count": 1,
   "metadata": {},
   "outputs": [
    {
     "name": "stdout",
     "output_type": "stream",
     "text": [
      "[9.64365076e+00 5.29150262e+00 8.10743804e-16 8.49555901e-17\n",
      " 7.85046229e-17]\n"
     ]
    }
   ],
   "source": [
    "import numpy as np\n",
    "\n",
    "A = [[0, 0, 0, 2, 2],\n",
    "     [0, 0, 0, 3, 3],\n",
    "     [0, 0, 0, 1, 1],\n",
    "     [1, 1, 1, 0, 0],\n",
    "     [2, 2, 2, 0, 0],\n",
    "     [5, 5, 5, 0, 0],\n",
    "     [1, 1, 1, 0, 0]]\n",
    "U, sigma, VT = np.linalg.svd(A)\n",
    "print(sigma)"
   ]
  },
  {
   "cell_type": "code",
   "execution_count": 2,
   "metadata": {},
   "outputs": [
    {
     "name": "stdout",
     "output_type": "stream",
     "text": [
      "[[-5.56776436e+00 -5.56776436e+00 -5.56776436e+00  2.48307945e-16\n",
      "   2.48307945e-16]\n",
      " [-7.63278329e-17 -7.63278329e-17 -7.63278329e-17 -3.74165739e+00\n",
      "  -3.74165739e+00]]\n"
     ]
    }
   ],
   "source": [
    "# 行压缩\n",
    "UT_2x7 = U.T[:2, :]\n",
    "print(np.dot(UT_2x7, A))"
   ]
  },
  {
   "cell_type": "code",
   "execution_count": 4,
   "metadata": {},
   "outputs": [
    {
     "name": "stdout",
     "output_type": "stream",
     "text": [
      "[[ 0.00000000e+00 -2.82842712e+00]\n",
      " [ 0.00000000e+00 -4.24264069e+00]\n",
      " [ 0.00000000e+00 -1.41421356e+00]\n",
      " [-1.73205081e+00  0.00000000e+00]\n",
      " [-3.46410162e+00  0.00000000e+00]\n",
      " [-8.66025404e+00  9.86076132e-32]\n",
      " [-1.73205081e+00  0.00000000e+00]]\n"
     ]
    }
   ],
   "source": [
    "# 列压缩\n",
    "VT_2x5 = VT[:2, :]\n",
    "print(np.dot(VT_2x5, np.mat(A).T).T)"
   ]
  },
  {
   "cell_type": "markdown",
   "metadata": {},
   "source": [
    "## 利用数据压缩进行矩阵近似"
   ]
  },
  {
   "cell_type": "code",
   "execution_count": 9,
   "metadata": {},
   "outputs": [
    {
     "name": "stdout",
     "output_type": "stream",
     "text": [
      "[[ 6.13544436e-18 -1.03995782e-15 -1.03995782e-15  2.00000000e+00\n",
      "   2.00000000e+00]\n",
      " [ 1.04609326e-15 -5.23046632e-16 -5.23046632e-16  3.00000000e+00\n",
      "   3.00000000e+00]\n",
      " [ 3.48697754e-16 -1.74348877e-16 -1.74348877e-16  1.00000000e+00\n",
      "   1.00000000e+00]\n",
      " [ 1.00000000e+00  1.00000000e+00  1.00000000e+00  7.69936548e-17\n",
      "   7.69936548e-17]\n",
      " [ 2.00000000e+00  2.00000000e+00  2.00000000e+00 -9.23711205e-17\n",
      "  -9.23711205e-17]\n",
      " [ 5.00000000e+00  5.00000000e+00  5.00000000e+00  8.79053493e-17\n",
      "   8.79053493e-17]\n",
      " [ 1.00000000e+00  1.00000000e+00  1.00000000e+00 -4.61855603e-17\n",
      "  -4.61855603e-17]]\n"
     ]
    }
   ],
   "source": [
    "A_1 = sigma[0] * np.dot(np.mat(U[:, 0]).T, np.mat(VT[0, :]))\n",
    "A_2 = sigma[1] * np.dot(np.mat(U[:, 1]).T, np.mat(VT[1, :]))\n",
    "print(A_1 + A_2)"
   ]
  },
  {
   "cell_type": "code",
   "execution_count": 11,
   "metadata": {},
   "outputs": [
    {
     "data": {
      "text/html": [
       "<img src=\"./svd1.jpg\" height=480 width=640>\n",
       "<img src=\"./svd2.jpg\" height=480 width=640>\n"
      ],
      "text/plain": [
       "<IPython.core.display.HTML object>"
      ]
     },
     "metadata": {},
     "output_type": "display_data"
    }
   ],
   "source": [
    "%%html\n",
    "<img src=\"./svd1.jpg\" height=480 width=640>\n",
    "<img src=\"./svd2.jpg\" height=480 width=640>"
   ]
  }
 ],
 "metadata": {
  "kernelspec": {
   "display_name": "Python 3",
   "language": "python",
   "name": "python3"
  },
  "language_info": {
   "codemirror_mode": {
    "name": "ipython",
    "version": 3
   },
   "file_extension": ".py",
   "mimetype": "text/x-python",
   "name": "python",
   "nbconvert_exporter": "python",
   "pygments_lexer": "ipython3",
   "version": "3.7.4"
  }
 },
 "nbformat": 4,
 "nbformat_minor": 2
}
