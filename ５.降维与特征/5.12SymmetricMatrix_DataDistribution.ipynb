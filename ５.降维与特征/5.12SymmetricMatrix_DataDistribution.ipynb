{
 "cells": [
  {
   "cell_type": "markdown",
   "metadata": {},
   "source": [
    "## 对称矩阵的性质总结  \n",
    "对于任意一个$m*n$形状的矩阵$A$,有如下性质\n",
    "1. 矩阵$A$和转置矩阵$A^T$相乘的结果$A^TA$和$AA^T$都是对称矩阵\n",
    "2. 矩阵$A^TA$和矩阵$AA^T$都能够被对角化，且都可以通过矩阵分解，获得一组标准正交的特征向量$S=Q\\Lambda Q^{-1}=Q\\Lambda Q^T$\n",
    "3. 矩阵$A^TA$和矩阵$AA^T$分别是n阶和m阶的方阵，它们的秩相等\n",
    "4. 对于矩阵$A^TA$而言，它的特征值一定都是非负的，特别地，如果矩阵$A$的列向量满足线性无关，那么它的特征值全部为正，即为正定矩阵\n",
    "5. 矩阵$A^TA$和矩阵$AA^T$拥有完全相同的非零特征值，非零特征值的个数与矩阵$A$的秩相等"
   ]
  },
  {
   "cell_type": "markdown",
   "metadata": {},
   "source": [
    "## 矩阵分布的度量  \n",
    "方差度量了变量自身的离散程度，而协方差则表征了两组随机变量之间的相关程度\n",
    "#### 1. 期望与方差"
   ]
  },
  {
   "cell_type": "code",
   "execution_count": 7,
   "metadata": {},
   "outputs": [
    {
     "name": "stdout",
     "output_type": "stream",
     "text": [
      "[[8 9 9]\n",
      " [2 5 2]]\n",
      "5.833333333333333\n",
      "9.13888888888889\n"
     ]
    }
   ],
   "source": [
    "import numpy as np\n",
    "\n",
    "a = np.random.randint(0, 10, (2, 3))\n",
    "print(a)\n",
    "print(a.mean())\n",
    "print(np.var(a))"
   ]
  },
  {
   "cell_type": "markdown",
   "metadata": {},
   "source": [
    "#### 2.协方差"
   ]
  },
  {
   "cell_type": "code",
   "execution_count": 5,
   "metadata": {},
   "outputs": [
    {
     "name": "stdout",
     "output_type": "stream",
     "text": [
      "[0.96810646 0.92428043 0.88022276 0.9655652 ]\n",
      "[0.87494375 0.74739207 0.62016251 0.64764208]\n",
      "[[0.00171496 0.00269927]\n",
      " [0.00269927 0.01331179]]\n",
      "3\n",
      "0.002699273978469004\n"
     ]
    }
   ],
   "source": [
    "import numpy as np\n",
    "a, b = np.random.rand(2, 4)\n",
    "print(a)\n",
    "print(b)\n",
    "print(np.cov(a, b))\n",
    "print(len(a) - 1)\n",
    "print(np.dot(a - np.mean(a), b - np.mean(b)) / (len(a) - 1))"
   ]
  }
 ],
 "metadata": {
  "kernelspec": {
   "display_name": "Python 3",
   "language": "python",
   "name": "python3"
  },
  "language_info": {
   "codemirror_mode": {
    "name": "ipython",
    "version": 3
   },
   "file_extension": ".py",
   "mimetype": "text/x-python",
   "name": "python",
   "nbconvert_exporter": "python",
   "pygments_lexer": "ipython3",
   "version": "3.7.4"
  }
 },
 "nbformat": 4,
 "nbformat_minor": 2
}
