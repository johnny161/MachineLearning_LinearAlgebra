{
 "cells": [
  {
   "cell_type": "markdown",
   "metadata": {},
   "source": [
    "## 傅里叶级数：从向量的角度看函数\n",
    "\n",
    "本节将采用一种全新的视角去看待函数，把函数看作是无穷维向量空间的一个向量  \n",
    "这样就能引入n维向量空间$R^n$中的许多运算法则，其中一个重要的运算就是向量的內积  \n",
    "下面通过概念的类比，对两个函数的內积运算和正交性进行定义，并参照向量的标准正交基的相关概念，引入一组正交基函数对一个连续函数进行分解"
   ]
  },
  {
   "cell_type": "code",
   "execution_count": 1,
   "metadata": {},
   "outputs": [
    {
     "name": "stdout",
     "output_type": "stream",
     "text": [
      "2.99951956532372e-32\n"
     ]
    }
   ],
   "source": [
    "# 两个无穷维向量的內积运算本质上就是两个函数乘积的积分\n",
    "# 如果积分运算结果为0，则表示两个函数满足彼此正交的关系\n",
    "# 下面计算正弦函数和余弦函数的內积，由于它们都是周期为2pi的函数，因此计算此范围内的积分函数\n",
    "from sympy import integrate, cos, sin\n",
    "from sympy.abc import x\n",
    "import numpy as np\n",
    "\n",
    "e = integrate(sin(x)*cos(x), (x, 0, 2*np.pi))\n",
    "print(e.evalf())"
   ]
  },
  {
   "cell_type": "markdown",
   "metadata": {},
   "source": [
    "简单验证$sin nx 和cos mx (m!=n)$满足正交性的推演过程并不难"
   ]
  },
  {
   "cell_type": "code",
   "execution_count": 3,
   "metadata": {},
   "outputs": [
    {
     "name": "stdout",
     "output_type": "stream",
     "text": [
      "0\n",
      "0\n",
      "0\n"
     ]
    }
   ],
   "source": [
    "from sympy import integrate, cos, sin\n",
    "from sympy.abc import x\n",
    "import numpy as np\n",
    "\n",
    "e1 = integrate(sin(2*x)*cos(5*x), (x, 0, 2*np.pi))\n",
    "e2 = integrate(sin(4*x)*cos(0*x), (x, 0, 2*np.pi))\n",
    "e3 = integrate(sin(x)*cos(2*x), (x, 0, 2*np.pi))\n",
    "print(e1.evalf())\n",
    "print(e2.evalf())\n",
    "print(e3.evalf())"
   ]
  },
  {
   "cell_type": "markdown",
   "metadata": {},
   "source": [
    "周期为2$\\pi$的函数$f(x)$的傅里叶级数：$f(x)=a_0+ \\sum_{k=1}^{+\\infty}[a_kcoskx+b_ksinkx]$  \n",
    "这一组基函数的个数是无穷多个且彼此正交的（因此易解耦求得傅里叶级数的系数）  \n",
    "这个等式建立了时域与频域的桥梁，等式的左侧是关于时间t的函数，而右侧则是一系列不同频率谐波的叠加"
   ]
  }
 ],
 "metadata": {
  "kernelspec": {
   "display_name": "Python 3",
   "language": "python",
   "name": "python3"
  },
  "language_info": {
   "codemirror_mode": {
    "name": "ipython",
    "version": 3
   },
   "file_extension": ".py",
   "mimetype": "text/x-python",
   "name": "python",
   "nbconvert_exporter": "python",
   "pygments_lexer": "ipython3",
   "version": "3.7.4"
  }
 },
 "nbformat": 4,
 "nbformat_minor": 2
}
