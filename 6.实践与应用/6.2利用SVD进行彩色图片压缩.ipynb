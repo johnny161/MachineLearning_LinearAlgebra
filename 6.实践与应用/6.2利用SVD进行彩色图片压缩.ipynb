{
 "cells": [
  {
   "cell_type": "markdown",
   "metadata": {},
   "source": [
    "### 此案例将会展示如何基于奇异值分解的方法进行彩色图片的压缩：\n",
    "具体步骤为：  \n",
    "1. 图像数字化\n",
    "2. 通道分离\n",
    "3. 矩阵压缩\n",
    "4. 通道重建"
   ]
  },
  {
   "cell_type": "code",
   "execution_count": 3,
   "metadata": {},
   "outputs": [
    {
     "name": "stdout",
     "output_type": "stream",
     "text": [
      "(1107, 1600, 4)\n"
     ]
    }
   ],
   "source": [
    "import numpy as np\n",
    "from PIL import Image\n",
    "\n",
    "# 将彩色图片表示为一个3d张量\n",
    "oriImage = Image.open(r'Trump.png','r')\n",
    "imgArray = np.array(oriImage)\n",
    "print(imgArray.shape)"
   ]
  },
  {
   "cell_type": "code",
   "execution_count": 8,
   "metadata": {},
   "outputs": [],
   "source": [
    "# channel表示要进行压缩处理的单个颜色通道矩阵,percent表示利用SVD进行矩阵重建时保留奇异值的百分比\n",
    "def imgCompress(channel, percent):\n",
    "    U, sigma, V_T = np.linalg.svd(channel)\n",
    "    m = U.shape[0]\n",
    "    n = V_T.shape[0]\n",
    "    reChannel = np.zeros((m,n))\n",
    "    for k in range(len(sigma)):\n",
    "        reChannel += sigma[k] * np.dot(U[:, k].reshape(m,1), V_T[k, :].reshape(1,n))\n",
    "        if float(k) / len(sigma) > percent:\n",
    "            reChannel[reChannel < 0] = 0\n",
    "            reChannel[reChannel > 255] = 255\n",
    "            break\n",
    "    return np.rint(reChannel).astype(\"uint8\")\n",
    "\n",
    "oriImage = Image.open(r'Trump.png','r')\n",
    "imgArray = np.array(oriImage)\n",
    "R = imgArray[:, :, 0]\n",
    "G = imgArray[:, :, 1]\n",
    "B = imgArray[:, :, 2]\n",
    "A = imgArray[:, :, 3]      \n",
    "                                       \n",
    "for p in [0.001,0.005,0.01,0.02,0.03,0.04,0.05,0.1,0.2,0.3,0.4,0.5,0.6,0.7,0.8,0.9]:\n",
    "    reR = imgCompress(R, p)\n",
    "    reG = imgCompress(G, p)\n",
    "    reB = imgCompress(B, p)\n",
    "    reA = imgCompress(A, p)\n",
    "    reI = np.stack((reR, reG, reB, reA), 2)\n",
    "    Image.fromarray(reI).save(\"image/{}\".format(p) + \".png\")"
   ]
  },
  {
   "cell_type": "code",
   "execution_count": 15,
   "metadata": {},
   "outputs": [
    {
     "data": {
      "text/html": [
       "<img src=\"image/res.jpg\" height=960 width=960>\n"
      ],
      "text/plain": [
       "<IPython.core.display.HTML object>"
      ]
     },
     "metadata": {},
     "output_type": "display_data"
    }
   ],
   "source": [
    "%%html\n",
    "<img src=\"image/res.jpg\" height=960 width=960>"
   ]
  }
 ],
 "metadata": {
  "kernelspec": {
   "display_name": "Python 3",
   "language": "python",
   "name": "python3"
  },
  "language_info": {
   "codemirror_mode": {
    "name": "ipython",
    "version": 3
   },
   "file_extension": ".py",
   "mimetype": "text/x-python",
   "name": "python",
   "nbconvert_exporter": "python",
   "pygments_lexer": "ipython3",
   "version": "3.7.4"
  }
 },
 "nbformat": 4,
 "nbformat_minor": 2
}
