{
 "cells": [
  {
   "cell_type": "code",
   "execution_count": null,
   "metadata": {},
   "outputs": [],
   "source": []
  },
  {
   "cell_type": "code",
   "execution_count": 2,
   "metadata": {},
   "outputs": [],
   "source": [
    "import numpy as np\n",
    "\n",
    "scoreData = np.mat([\n",
    "    [5,2,1,4,0,0,2,4,0,0,0],\n",
    "    [0,0,0,0,0,0,0,0,0,3,0],\n",
    "    [1,0,5,2,0,0,3,0,3,0,1],\n",
    "    [0,5,0,0,4,0,1,0,0,0,0],\n",
    "    [0,0,0,0,0,4,0,0,0,4,0],\n",
    "    [0,0,1,0,0,0,1,0,0,5,0],\n",
    "    [5,0,2,4,2,1,0,3,0,1,0],\n",
    "    [0,4,0,0,5,4,0,0,0,0,5],\n",
    "    [0,0,0,0,0,0,4,0,4,5,0],\n",
    "    [0,0,0,4,0,0,1,5,0,0,0],\n",
    "    [0,0,0,0,4,5,0,0,0,0,3],\n",
    "    [4,2,1,4,0,0,2,4,0,0,0],\n",
    "    [0,1,4,1,2,1,5,0,5,0,0],\n",
    "    [0,0,0,0,0,4,0,0,0,4,0],\n",
    "    [2,5,0,0,4,0,0,0,0,0,0],\n",
    "    [5,0,0,0,0,0,0,4,2,0,0],\n",
    "    [0,2,4,0,4,3,4,0,0,0,0],\n",
    "    [0,3,5,1,0,0,4,1,0,0,0]\n",
    "])"
   ]
  },
  {
   "cell_type": "code",
   "execution_count": 3,
   "metadata": {},
   "outputs": [],
   "source": [
    "# 衡量菜品间相似性:余弦相似度\n",
    "def cosSim(vec_1, vec_2):\n",
    "    dotprod = float(np.dot(vec_1.T, vec_2))\n",
    "    normprod = np.linalg.norm(vec_1) * np.linalg.norm(vec_2)\n",
    "    return 0.5 + 0.5 * (dotprod / normprod)"
   ]
  },
  {
   "cell_type": "code",
   "execution_count": 4,
   "metadata": {},
   "outputs": [
    {
     "name": "stdout",
     "output_type": "stream",
     "text": [
      "0.6523179489612356\n"
     ]
    }
   ],
   "source": [
    "# test\n",
    "print(cosSim(scoreData[:,0], scoreData[:, 1]))"
   ]
  },
  {
   "cell_type": "code",
   "execution_count": 5,
   "metadata": {},
   "outputs": [
    {
     "name": "stdout",
     "output_type": "stream",
     "text": [
      "[18.00984878 13.34523472 11.52884033 10.1161419   7.13556169  5.86405759\n",
      "  4.87893356  3.59711712  3.28710923  2.48996847  2.06103963]\n"
     ]
    }
   ],
   "source": [
    "# 真实稀疏矩阵的降维处理\n",
    "U, sigma, VT = np.linalg.svd(scoreData)\n",
    "print(sigma)"
   ]
  },
  {
   "cell_type": "code",
   "execution_count": 7,
   "metadata": {},
   "outputs": [
    {
     "name": "stdout",
     "output_type": "stream",
     "text": [
      "6\n"
     ]
    }
   ],
   "source": [
    "# 18位顾客给11个菜打分，不可能每个人吃遍每道菜\n",
    "# 为避免稀疏矩阵的不同，我们采用SVD进行行压缩（18->6)\n",
    "# 使得贡献率达到90，即奇异值的平方和达到所有平方和的90%\n",
    "sigmaSum = 0\n",
    "k_num = 0\n",
    "\n",
    "for k in range(len(sigma)):\n",
    "    sigmaSum += sigma[k] * sigma[k]\n",
    "    if float(sigmaSum) / float(np.sum(sigma ** 2)) > 0.9:\n",
    "        k_num = k + 1\n",
    "        break\n",
    "print(k_num) "
   ]
  },
  {
   "cell_type": "code",
   "execution_count": null,
   "metadata": {},
   "outputs": [],
   "source": []
  }
 ],
 "metadata": {
  "kernelspec": {
   "display_name": "Python 3",
   "language": "python",
   "name": "python3"
  },
  "language_info": {
   "codemirror_mode": {
    "name": "ipython",
    "version": 3
   },
   "file_extension": ".py",
   "mimetype": "text/x-python",
   "name": "python",
   "nbconvert_exporter": "python",
   "pygments_lexer": "ipython3",
   "version": "3.7.4"
  }
 },
 "nbformat": 4,
 "nbformat_minor": 2
}
