{
 "cells": [
  {
   "cell_type": "code",
   "execution_count": 19,
   "metadata": {},
   "outputs": [
    {
     "data": {
      "text/html": [
       "<img src=\"./6-1.jpg\" height=480 width=640>\n"
      ],
      "text/plain": [
       "<IPython.core.display.HTML object>"
      ]
     },
     "metadata": {},
     "output_type": "display_data"
    }
   ],
   "source": [
    "%%html\n",
    "<img src=\"./6-1.jpg\" height=480 width=640>"
   ]
  },
  {
   "cell_type": "code",
   "execution_count": 2,
   "metadata": {},
   "outputs": [],
   "source": [
    "import numpy as np\n",
    "\n",
    "scoreData = np.mat([\n",
    "    [5,2,1,4,0,0,2,4,0,0,0],\n",
    "    [0,0,0,0,0,0,0,0,0,3,0],\n",
    "    [1,0,5,2,0,0,3,0,3,0,1],\n",
    "    [0,5,0,0,4,0,1,0,0,0,0],\n",
    "    [0,0,0,0,0,4,0,0,0,4,0],\n",
    "    [0,0,1,0,0,0,1,0,0,5,0],\n",
    "    [5,0,2,4,2,1,0,3,0,1,0],\n",
    "    [0,4,0,0,5,4,0,0,0,0,5],\n",
    "    [0,0,0,0,0,0,4,0,4,5,0],\n",
    "    [0,0,0,4,0,0,1,5,0,0,0],\n",
    "    [0,0,0,0,4,5,0,0,0,0,3],\n",
    "    [4,2,1,4,0,0,2,4,0,0,0],\n",
    "    [0,1,4,1,2,1,5,0,5,0,0],\n",
    "    [0,0,0,0,0,4,0,0,0,4,0],\n",
    "    [2,5,0,0,4,0,0,0,0,0,0],\n",
    "    [5,0,0,0,0,0,0,4,2,0,0],\n",
    "    [0,2,4,0,4,3,4,0,0,0,0],\n",
    "    [0,3,5,1,0,0,4,1,0,0,0]\n",
    "])"
   ]
  },
  {
   "cell_type": "code",
   "execution_count": 3,
   "metadata": {},
   "outputs": [],
   "source": [
    "# 衡量菜品间相似性:余弦相似度(0,1)\n",
    "def cosSim(vec_1, vec_2):\n",
    "    dotprod = float(np.dot(vec_1.T, vec_2))\n",
    "    normprod = np.linalg.norm(vec_1) * np.linalg.norm(vec_2)\n",
    "    return 0.5 + 0.5 * (dotprod / normprod)"
   ]
  },
  {
   "cell_type": "code",
   "execution_count": 4,
   "metadata": {},
   "outputs": [
    {
     "name": "stdout",
     "output_type": "stream",
     "text": [
      "0.6523179489612356\n"
     ]
    }
   ],
   "source": [
    "# test\n",
    "print(cosSim(scoreData[:,0], scoreData[:, 1]))"
   ]
  },
  {
   "cell_type": "code",
   "execution_count": 5,
   "metadata": {},
   "outputs": [
    {
     "name": "stdout",
     "output_type": "stream",
     "text": [
      "[18.00984878 13.34523472 11.52884033 10.1161419   7.13556169  5.86405759\n",
      "  4.87893356  3.59711712  3.28710923  2.48996847  2.06103963]\n"
     ]
    }
   ],
   "source": [
    "# 真实稀疏矩阵的降维处理\n",
    "U, sigma, VT = np.linalg.svd(scoreData)\n",
    "print(sigma)"
   ]
  },
  {
   "cell_type": "code",
   "execution_count": 7,
   "metadata": {},
   "outputs": [
    {
     "name": "stdout",
     "output_type": "stream",
     "text": [
      "6\n"
     ]
    }
   ],
   "source": [
    "# 18位顾客给11个菜打分，不可能每个人吃遍每道菜\n",
    "# 为避免稀疏矩阵的不同，我们采用SVD进行行压缩（18->6)\n",
    "# 使得贡献率达到90，即奇异值的平方和达到所有平方和的90%\n",
    "sigmaSum = 0\n",
    "k_num = 0\n",
    "\n",
    "for k in range(len(sigma)):\n",
    "    sigmaSum += sigma[k] * sigma[k]\n",
    "    if float(sigmaSum) / float(np.sum(sigma ** 2)) > 0.9:\n",
    "        k_num = k + 1\n",
    "        break\n",
    "print(k_num) "
   ]
  },
  {
   "cell_type": "code",
   "execution_count": 9,
   "metadata": {},
   "outputs": [
    {
     "name": "stdout",
     "output_type": "stream",
     "text": [
      "[[-112.4308753  -112.87222698 -124.19623361 -105.3993477  -111.288632\n",
      "   -73.59389971 -135.0414711  -100.44297783  -64.70437823  -40.78142832\n",
      "   -36.26815254]\n",
      " [ -72.48369701   41.51056586    2.73164141  -63.4068466    80.85031966\n",
      "    74.17305344    5.56275757  -78.96337678    0.5442874    22.36535334\n",
      "    43.68006783]\n",
      " [  37.12342785   37.62324399  -48.30321076   12.27825448   44.01558208\n",
      "    15.58603044  -61.15421157   29.1271841   -51.75734522  -48.33639061\n",
      "    24.5927832 ]\n",
      " [  17.52124987  -26.0972729   -31.74323843    6.7731707    -9.84514566\n",
      "    43.42277156  -20.38567072   17.78646057   -3.58400334   75.2486827\n",
      "     6.44560751]\n",
      " [  -4.65216236  -30.40184468   14.31575194    8.88222668   -3.18752866\n",
      "    25.17373196   -2.36071622    3.80908229    0.60261906  -21.93806491\n",
      "    14.73475607]\n",
      " [  12.3915557    -6.28064351  -10.81041971   -9.75679724    6.46828122\n",
      "    -3.64007586   -1.80356759   -1.88718634   25.44954779   -5.17787313\n",
      "     6.4052445 ]]\n"
     ]
    }
   ],
   "source": [
    "# 通过行压缩的方式进行矩阵行压缩，推荐算法中通常还需要乘以奇异值方阵，赋予其对应的权重值\n",
    "# 最终获得降维后为6x11行的压缩矩阵scoreDataRc\n",
    "sigma_K = np.mat(np.eye(6) * sigma[:6])\n",
    "scoreDataRc = sigma_K * U.T[:6,:] * scoreData\n",
    "print(scoreDataRc)"
   ]
  },
  {
   "cell_type": "code",
   "execution_count": 10,
   "metadata": {},
   "outputs": [],
   "source": [
    "# 评分估计：4个参数分别为：原始菜品打分矩阵，行压缩矩阵，用户位于scoreData中的行索引，菜品位于scoreData中的列索引\n",
    "def estScore(scoreData, scoreDataRc, userIndex, itemIndex):\n",
    "    n = np.shape(scoreData)[1]\n",
    "    simSum = 0\n",
    "    simSumScore = 0\n",
    "    for i in range(n):\n",
    "        userScore = scoreData[userIndex, i]\n",
    "        if userScore==0 or i==itemIndex:\n",
    "            continue\n",
    "        sim = cosSim(scoreDataRc[:, i], scoreDataRc[:, itemIndex])\n",
    "        simSum = float(simSum + sim)\n",
    "        simSumScore = simSumScore + sim * userScore\n",
    "    if simSum == 0:\n",
    "        return 0\n",
    "    return simSumScore / simSum"
   ]
  },
  {
   "cell_type": "code",
   "execution_count": 11,
   "metadata": {},
   "outputs": [
    {
     "name": "stdout",
     "output_type": "stream",
     "text": [
      "index:0,score:2.634711671533117\n",
      "index:4,score:2.9259893459771122\n",
      "index:5,score:2.933723884808588\n",
      "index:8,score:2.9657073178482745\n",
      "index:9,score:2.905707343296552\n",
      "index:10,score:2.9263484655262877\n"
     ]
    }
   ],
   "source": [
    "# 菜品结果推荐\n",
    "n = np.shape(scoreData)[1]\n",
    "userIndex = 17 #最后一行为待预测用户\n",
    "\n",
    "for i in range(n):\n",
    "    userScore = scoreData[17, i]\n",
    "    if userScore != 0:\n",
    "        continue\n",
    "    print(\"index:{},score:{}\".format(i, estScore(scoreData, scoreDataRc, userIndex, i)))"
   ]
  },
  {
   "cell_type": "code",
   "execution_count": 12,
   "metadata": {},
   "outputs": [
    {
     "data": {
      "text/html": [
       "<img src=\"./推荐系统.jpg\" height=480 width=640>\n"
      ],
      "text/plain": [
       "<IPython.core.display.HTML object>"
      ]
     },
     "metadata": {},
     "output_type": "display_data"
    }
   ],
   "source": [
    "%%html\n",
    "<img src=\"./推荐系统.jpg\" height=480 width=640>"
   ]
  }
 ],
 "metadata": {
  "kernelspec": {
   "display_name": "Python 3",
   "language": "python",
   "name": "python3"
  },
  "language_info": {
   "codemirror_mode": {
    "name": "ipython",
    "version": 3
   },
   "file_extension": ".py",
   "mimetype": "text/x-python",
   "name": "python",
   "nbconvert_exporter": "python",
   "pygments_lexer": "ipython3",
   "version": "3.7.4"
  }
 },
 "nbformat": 4,
 "nbformat_minor": 2
}
