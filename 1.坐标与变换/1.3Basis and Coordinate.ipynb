{
 "cells": [
  {
   "cell_type": "markdown",
   "metadata": {},
   "source": [
    "## 抽象向量 = 基矩阵 × 坐标向量\n",
    "坐标必须依托于指定的基底才有意义  \n",
    "要想准确描述向量，首先就要确定一组基底，然后通过求出向量在各个基向量上的投影值，最后才能确定在这个基上的坐标值"
   ]
  },
  {
   "cell_type": "markdown",
   "metadata": {},
   "source": [
    "## 向量在不同基底上表示为不同坐标\n",
    "如果基向量的模长是1，那么就可以用目标向量点乘基向量，从而直接获得该向量在这个基向量方向上的对应坐标值"
   ]
  },
  {
   "cell_type": "markdown",
   "metadata": {},
   "source": [
    "## 构成基底的条件\n",
    "作为n维空间中的一组基底，必须满足这样的要求：在n维空间中，任意一个向量都可以表示为这一组基向量的线性组合，且这种表示方式唯一"
   ]
  },
  {
   "cell_type": "markdown",
   "metadata": {},
   "source": [
    "## 张成空间\n",
    "向量的个数和维数都不是其张成空间维数及形态的决定因素，具体的情况需要结合向量的线性无关性进行整体考量"
   ]
  },
  {
   "cell_type": "markdown",
   "metadata": {},
   "source": [
    "## 矩阵乘向量的新视角： 变换基底（空间映射更准确）\n",
    "从列的角度看，矩阵A与向量x的乘法，实质上是对矩阵A的各个列向量进行线性组合的过程，每个列向量的组合系数就是向量x的各个对应成分  \n",
    "矩阵A是m×n形状的一般矩阵：原始空间的n维列向量x被变成了n个m维列向量线性组合的形式，其最终运算结果是一个m维的列向量\n"
   ]
  }
 ],
 "metadata": {
  "kernelspec": {
   "display_name": "Python 3",
   "language": "python",
   "name": "python3"
  },
  "language_info": {
   "codemirror_mode": {
    "name": "ipython",
    "version": 3
   },
   "file_extension": ".py",
   "mimetype": "text/x-python",
   "name": "python",
   "nbconvert_exporter": "python",
   "pygments_lexer": "ipython3",
   "version": "3.7.4"
  }
 },
 "nbformat": 4,
 "nbformat_minor": 2
}
