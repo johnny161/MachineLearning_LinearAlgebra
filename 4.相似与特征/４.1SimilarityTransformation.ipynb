{
 "cells": [
  {
   "cell_type": "markdown",
   "metadata": {},
   "source": [
    "## 坐标值取决于基底\n",
    "对于一个指定的向量而言，它在空间中的位置是绝对的，而它的坐标值却是相对的。向量的坐标依托于空间中所选取的基底  \n",
    "更直白地说，对于同一个向量，如果选取的基底不同，其所对应的坐标值就不同"
   ]
  },
  {
   "cell_type": "markdown",
   "metadata": {},
   "source": [
    "$$\\begin{bmatrix}3\\\\3\\end{bmatrix}=\\begin{bmatrix}1&0\\\\0&1\\end{bmatrix}\\begin{bmatrix}3\\\\3\\end{bmatrix}=\\begin{bmatrix}1&2\\\\2&1\\end{bmatrix}\\begin{bmatrix}1\\\\1\\end{bmatrix}$$"
   ]
  },
  {
   "cell_type": "markdown",
   "metadata": {},
   "source": [
    "描述相似变换过程的矩阵是：$A=P^{-1}BP$  \n",
    "其中矩阵A和B就是我们所说的相似矩阵，它们分别表示了同一个向量在两个不同基底$(e_1,e_2)$和$(e_1',e_2'）$下的相似变换过程  \n",
    "那么具体这个矩阵P该如何表示，来分析下这个变换过程，即向量在空间发生一次线性变换，由原来空间位置M变换到目标空间位置N，如图所示  "
   ]
  },
  {
   "cell_type": "code",
   "execution_count": 27,
   "metadata": {},
   "outputs": [
    {
     "data": {
      "text/html": [
       "<img src=\"./similarity_transformation.jpg\" width=480 height=360>\n"
      ],
      "text/plain": [
       "<IPython.core.display.HTML object>"
      ]
     },
     "metadata": {},
     "output_type": "display_data"
    }
   ],
   "source": [
    "%%html\n",
    "<img src=\"./similarity_transformation.jpg\" width=480 height=360>"
   ]
  },
  {
   "cell_type": "markdown",
   "metadata": {},
   "source": [
    "对于空间中的同一位置变换，在不同的基底下，用于描述的矩阵也是不相同的  \n",
    "而这些不相同矩阵所描述的线性变换是相似的，它们也被称为相似矩阵"
   ]
  },
  {
   "cell_type": "markdown",
   "metadata": {},
   "source": [
    "## 寻找相似矩阵中的最佳矩阵 \n",
    "    "
   ]
  },
  {
   "cell_type": "markdown",
   "metadata": {},
   "source": [
    "对角矩阵有以下两大优势： \n",
    "- 一个n维列向量在n阶对角阵的作用下，其变换方式仅仅反映在各个维度轴向上的长度拉伸，而不对应着平移或旋转\n",
    "- 连续的线性变换用矩阵的乘法表示很简单"
   ]
  }
 ],
 "metadata": {
  "kernelspec": {
   "display_name": "Python 3",
   "language": "python",
   "name": "python3"
  },
  "language_info": {
   "codemirror_mode": {
    "name": "ipython",
    "version": 3
   },
   "file_extension": ".py",
   "mimetype": "text/x-python",
   "name": "python",
   "nbconvert_exporter": "python",
   "pygments_lexer": "ipython3",
   "version": "3.7.4"
  }
 },
 "nbformat": 4,
 "nbformat_minor": 2
}
