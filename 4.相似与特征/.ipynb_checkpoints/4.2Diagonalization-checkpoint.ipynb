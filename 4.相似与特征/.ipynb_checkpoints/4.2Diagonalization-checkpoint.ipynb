{
 "cells": [
  {
   "cell_type": "markdown",
   "metadata": {},
   "source": [
    "## 构造对角化转换矩阵P的思路\n",
    "针对表达式$P^{-1}AP=\\Lambda$进行操作，等式两边同时左乘矩阵P，则能得到新表达式:$AP=P\\Lambda$  \n",
    "进一步利用完整的矩阵、向量形式对等式进行展开，最终有  \n",
    "$[Ap_1\\ Ap_2\\ Ap_3\\ \\cdots\\ Ap_n]=[\\lambda_1p_1\\ \\lambda_2p_2\\ \\lambda_3p_3\\ \\cdots\\ \\lambda_np_n]$  \n",
    "  \n",
    "此时，要处理的问题就进一步具体化了   \n",
    "第一步：我们需要找到满足上述等式的一组向量，即$p_1,p_2,p_3,\\cdots,p_n$,找到后，将其横向排列，这样就构成了转换矩阵$P=[p_1\\ p_2\\ p_3\\ \\cdots\\ p_n]$  \n",
    "第二步:把与向量$p_1,p_2,p_3,\\cdots,p_n$分别对应的值$\\lambda_1,\\lambda_2,\\lambda_3,\\cdots,\\lambda_n$依照顺序沿着对角线排列，就构成了与矩阵A相似的对角矩阵$$\\Lambda=\\begin{bmatrix}\\lambda_1&\\\\&\\lambda_2\\\\&&\\lambda_3\\\\&&&\\ddots\\\\&&&&\\lambda_n\\end{bmatrix}$$\n"
   ]
  },
  {
   "cell_type": "markdown",
   "metadata": {},
   "source": [
    "## 几何意义"
   ]
  },
  {
   "cell_type": "code",
   "execution_count": 9,
   "metadata": {},
   "outputs": [
    {
     "data": {
      "text/html": [
       "<img src=\"./geo.jpg\" height=480 width=640>\n"
      ],
      "text/plain": [
       "<IPython.core.display.HTML object>"
      ]
     },
     "metadata": {},
     "output_type": "display_data"
    }
   ],
   "source": [
    "%%html\n",
    "<img src=\"./geo.jpg\" height=480 width=640>"
   ]
  },
  {
   "cell_type": "markdown",
   "metadata": {},
   "source": [
    "## 用基变换的方法再次推导对角化过程"
   ]
  },
  {
   "cell_type": "code",
   "execution_count": 13,
   "metadata": {},
   "outputs": [
    {
     "data": {
      "text/html": [
       "<img src=\"./infer.jpg\" height=880 width=660>\n"
      ],
      "text/plain": [
       "<IPython.core.display.HTML object>"
      ]
     },
     "metadata": {},
     "output_type": "display_data"
    }
   ],
   "source": [
    "%%html\n",
    "<img src=\"./infer.jpg\" height=880 width=660>"
   ]
  },
  {
   "cell_type": "code",
   "execution_count": null,
   "metadata": {},
   "outputs": [],
   "source": []
  }
 ],
 "metadata": {
  "kernelspec": {
   "display_name": "Python 3",
   "language": "python",
   "name": "python3"
  },
  "language_info": {
   "codemirror_mode": {
    "name": "ipython",
    "version": 3
   },
   "file_extension": ".py",
   "mimetype": "text/x-python",
   "name": "python",
   "nbconvert_exporter": "python",
   "pygments_lexer": "ipython3",
   "version": "3.7.4"
  }
 },
 "nbformat": 4,
 "nbformat_minor": 2
}
