{
 "cells": [
  {
   "cell_type": "markdown",
   "metadata": {},
   "source": [
    "## 几何意义\n",
    "矩阵对角化方法的落脚点是求矩阵的特征值和特征向量  \n",
    "核心表达式$Ap=\\lambda p$的几何意义简单、明晰  \n",
    "一般来说，一个向量在某个矩阵的作用下,其空间变化反映为长度和方向的改变，即旋转、平移和拉伸变换，有些情况甚至连向量的维度都会发生变化  　\n",
    "而这里的特殊之处就在于：矩阵作用于它的特征向量，仅仅只有长度发生了改变"
   ]
  },
  {
   "cell_type": "markdown",
   "metadata": {},
   "source": [
    "## 基本几何性质\n",
    "- 矩阵特征值为０的情况  \n",
    "依照定义有$AP=0P=0$，这就意味着，该矩阵的零空间也包含非零向量ｐ,也可知该矩阵不可逆  \n",
    "- 对角矩阵的情况  \n",
    "对于一个对角矩阵\n",
    "$\\begin{bmatrix}1&\\\\&2\\\\&&3\\\\&&&\\ddots\\\\&&&&n\\end{bmatrix}$而言，它的特征值依次为$1,2,3,\\cdots,n$,各个特征值所对应的特征向量依次为$\\begin{bmatrix}1\\\\0\\\\0\\\\\\vdots\\\\0\\end{bmatrix}$,$\\begin{bmatrix}0\\\\1\\\\0\\\\\\vdots\\\\0\\end{bmatrix}$,$\\begin{bmatrix}0\\\\0\\\\1\\\\\\vdots\\\\0\\end{bmatrix}$,$\\cdots$,$\\begin{bmatrix}0\\\\0\\\\0\\\\\\vdots\\\\1\\end{bmatrix}$  \n",
    "- 相似矩阵情况  \n",
    "如果矩阵Ａ的特征向量为ｐ，特征值为$\\lambda$,那么矩阵Ａ的相似矩阵$S^{-1}AS$的特征值保持不变，特征值仍为$\\lambda$,而它的特征向量将发生变化，变为$S^{-1}$ｐ  \n",
    "这个性质的验证过程非常简单，即$(S^{-1}AS)(S^{-1}p)=S^{-1}ASS^{-1}p=S^{-1}Ap=S^{-1}\\lambda p=\\lambda(S^{-1}p)$"
   ]
  },
  {
   "cell_type": "markdown",
   "metadata": {},
   "source": [
    "## 特征值与特征向量的Ｐｙｔｈｏｎ求解方法\n",
    "对于两两不同的特征值肯定对应着一组线性无关的特征向量，反之却不能说相同的两个特征值所对应的特征向量就一定满足线性相关的关系"
   ]
  },
  {
   "cell_type": "code",
   "execution_count": 2,
   "metadata": {},
   "outputs": [
    {
     "name": "stdout",
     "output_type": "stream",
     "text": [
      "[3. 1.]\n",
      "[[ 0.70710678 -0.70710678]\n",
      " [ 0.70710678  0.70710678]]\n"
     ]
    }
   ],
   "source": [
    "import numpy as np\n",
    "A = np.array([[2, 1],\n",
    "              [1, 2]])\n",
    "evalue, evector = np.linalg.eig(A)\n",
    "print(evalue)\n",
    "print(evector)"
   ]
  },
  {
   "cell_type": "markdown",
   "metadata": {},
   "source": [
    "evector矩阵中，每一列都是与特征值依序对应的特征向量，而且此处已将结果处理为模长为１的单位向量"
   ]
  },
  {
   "cell_type": "code",
   "execution_count": 3,
   "metadata": {},
   "outputs": [
    {
     "name": "stdout",
     "output_type": "stream",
     "text": [
      "[-2.  5.  5.]\n",
      "[[-0.89442719 -0.83205029  0.        ]\n",
      " [ 0.4472136  -0.5547002   0.        ]\n",
      " [ 0.          0.          1.        ]]\n"
     ]
    }
   ],
   "source": [
    "B = np.array([[1, 6, 0],\n",
    "              [2, 2, 0],\n",
    "              [0, 0, 5]])\n",
    "evalue, evector = np.linalg.eig(B)\n",
    "print(evalue)\n",
    "print(evector)"
   ]
  },
  {
   "cell_type": "code",
   "execution_count": 4,
   "metadata": {},
   "outputs": [
    {
     "name": "stdout",
     "output_type": "stream",
     "text": [
      "[6. 4. 6.]\n",
      "[[ 1.00000000e+00  7.07106781e-01 -1.00000000e+00]\n",
      " [ 0.00000000e+00  7.07106781e-01  0.00000000e+00]\n",
      " [ 0.00000000e+00  0.00000000e+00  1.33226763e-15]]\n"
     ]
    }
   ],
   "source": [
    "C = np.array([[6, -2, 1],\n",
    "              [0, 4, 0],\n",
    "              [0, 0, 6]])\n",
    "evalue, evector = np.linalg.eig(C)\n",
    "print(evalue)\n",
    "print(evector)"
   ]
  },
  {
   "cell_type": "markdown",
   "metadata": {},
   "source": [
    "二重特征值６所对应的两个特征向量线性相关，该矩阵不可逆  \n",
    "面对这种情形，需要通过其他方式，将其化作与对角矩阵非常接近的Ｊｏｒｄａｎ标准型　　\n"
   ]
  },
  {
   "cell_type": "markdown",
   "metadata": {},
   "source": [
    "## 可对角化\n",
    "综上所述,对于一个ｎ阶方阵Ａ，包括多重特征值在内，一共ｎ个特征值  \n",
    "对于任意特征值，如果对应的线性无关的特征向量与其重数相同，换句话说，该矩阵Ａ一共有ｎ个线性无关的特征向量  \n",
    "那么由矩阵Ａ的特征向量所组成的特征矩阵就是可逆矩阵，矩阵Ａ就可以被对角化"
   ]
  }
 ],
 "metadata": {
  "kernelspec": {
   "display_name": "Python 3",
   "language": "python",
   "name": "python3"
  },
  "language_info": {
   "codemirror_mode": {
    "name": "ipython",
    "version": 3
   },
   "file_extension": ".py",
   "mimetype": "text/x-python",
   "name": "python",
   "nbconvert_exporter": "python",
   "pygments_lexer": "ipython3",
   "version": "3.7.4"
  }
 },
 "nbformat": 4,
 "nbformat_minor": 2
}
